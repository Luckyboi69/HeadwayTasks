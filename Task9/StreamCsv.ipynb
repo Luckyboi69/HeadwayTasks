{
  "nbformat": 4,
  "nbformat_minor": 0,
  "metadata": {
    "colab": {
      "provenance": []
    },
    "kernelspec": {
      "name": "python3",
      "display_name": "Python 3"
    },
    "language_info": {
      "name": "python"
    }
  },
  "cells": [
    {
      "cell_type": "code",
      "source": [
        "import csv\n",
        "import random\n",
        "from datetime import datetime, timedelta\n",
        "import os\n",
        "from google.colab import drive\n",
        "import time\n",
        "\n",
        "# Mount Google Drive\n",
        "drive.mount('/content/gdrive')"
      ],
      "metadata": {
        "colab": {
          "base_uri": "https://localhost:8080/"
        },
        "id": "-FV0XCg0YdWm",
        "outputId": "cc379d39-b0c7-432e-b55f-5a97b31fb02b"
      },
      "execution_count": 1,
      "outputs": [
        {
          "output_type": "stream",
          "name": "stdout",
          "text": [
            "Mounted at /content/gdrive\n"
          ]
        }
      ]
    },
    {
      "cell_type": "code",
      "source": [
        "!pip install pyspark"
      ],
      "metadata": {
        "id": "afFCh-qEYnRv",
        "colab": {
          "base_uri": "https://localhost:8080/"
        },
        "outputId": "4c55e6ce-1020-4016-9f2f-b56bb9ce6553"
      },
      "execution_count": 2,
      "outputs": [
        {
          "output_type": "stream",
          "name": "stdout",
          "text": [
            "Collecting pyspark\n",
            "  Downloading pyspark-3.5.0.tar.gz (316.9 MB)\n",
            "\u001b[2K     \u001b[90m━━━━━━━━━━━━━━━━━━━━━━━━━━━━━━━━━━━━━━━━\u001b[0m \u001b[32m316.9/316.9 MB\u001b[0m \u001b[31m3.7 MB/s\u001b[0m eta \u001b[36m0:00:00\u001b[0m\n",
            "\u001b[?25h  Preparing metadata (setup.py) ... \u001b[?25l\u001b[?25hdone\n",
            "Requirement already satisfied: py4j==0.10.9.7 in /usr/local/lib/python3.10/dist-packages (from pyspark) (0.10.9.7)\n",
            "Building wheels for collected packages: pyspark\n",
            "  Building wheel for pyspark (setup.py) ... \u001b[?25l\u001b[?25hdone\n",
            "  Created wheel for pyspark: filename=pyspark-3.5.0-py2.py3-none-any.whl size=317425344 sha256=2025bc0b9be08afdbad605933fbaf56c9c7816aaf6b50b2945aa4d3cfee7d7fa\n",
            "  Stored in directory: /root/.cache/pip/wheels/41/4e/10/c2cf2467f71c678cfc8a6b9ac9241e5e44a01940da8fbb17fc\n",
            "Successfully built pyspark\n",
            "Installing collected packages: pyspark\n",
            "Successfully installed pyspark-3.5.0\n"
          ]
        }
      ]
    },
    {
      "cell_type": "code",
      "execution_count": null,
      "metadata": {
        "id": "RCHB8NG1X-Vv"
      },
      "outputs": [],
      "source": [
        "from pyspark.sql import SparkSession\n",
        "from pyspark.sql.types import StructType, StructField, StringType, FloatType\n",
        "from pyspark.sql import functions as F\n",
        "import time\n",
        "\n",
        "# Define the schema for the CSV data\n",
        "schema = StructType([\n",
        "    StructField(\"Timestamp\", StringType(), True),\n",
        "    StructField(\"Stock_Open\", FloatType(), True),\n",
        "    StructField(\"Stock_Close\", FloatType(), True)\n",
        "])\n",
        "\n",
        "# Initialize Spark session\n",
        "spark = SparkSession.builder \\\n",
        "    .appName(\"StockBatchProcessing\") \\\n",
        "    .getOrCreate()\n",
        "\n",
        "# Path to the folder containing CSV files in Google Drive\n",
        "csv_path = \"/content/gdrive/My Drive/stock_data\"\n",
        "\n",
        "# Define the output path for the CSV files with average values\n",
        "output_path = \"/content/gdrive/My Drive/stock_average\"\n",
        "\n",
        "while True:\n",
        "    # Read CSV files for the last 5 minutes\n",
        "    start_time = time.time()\n",
        "    current_time = int(start_time)\n",
        "    five_minutes_ago = current_time - (current_time % 300)  # Align to 5-minute intervals\n",
        "    streaming_df = spark.read.option(\"header\", \"true\").schema(schema).csv(csv_path)\n",
        "\n",
        "    # Filter the DataFrame for the last 5 minutes\n",
        "    streaming_df = streaming_df.filter((F.unix_timestamp(\"Timestamp\") > five_minutes_ago))\n",
        "\n",
        "    # Calculate average stock value\n",
        "    average_stock_df = streaming_df.groupBy().agg(\n",
        "        F.avg(\"Stock_Open\").alias(\"Average_Stock_Open\"),\n",
        "        F.avg(\"Stock_Close\").alias(\"Average_Stock_Close\")\n",
        "    )\n",
        "\n",
        "    # Write the results to a CSV file\n",
        "    average_stock_df.write.mode(\"overwrite\").csv(output_path)\n",
        "\n",
        "    # Wait for the next 5-minute interval\n",
        "    elapsed_time = time.time() - start_time\n",
        "    wait_time = max(0, 300 - elapsed_time)\n",
        "    time.sleep(wait_time)\n"
      ]
    },
    {
      "cell_type": "code",
      "source": [],
      "metadata": {
        "id": "qjVU_ua0YIrw"
      },
      "execution_count": null,
      "outputs": []
    }
  ]
}