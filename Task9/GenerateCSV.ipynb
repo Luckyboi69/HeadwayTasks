{
  "nbformat": 4,
  "nbformat_minor": 0,
  "metadata": {
    "colab": {
      "provenance": []
    },
    "kernelspec": {
      "name": "python3",
      "display_name": "Python 3"
    },
    "language_info": {
      "name": "python"
    }
  },
  "cells": [
    {
      "cell_type": "code",
      "execution_count": null,
      "metadata": {
        "colab": {
          "base_uri": "https://localhost:8080/"
        },
        "id": "5w3hmKWIVzxq",
        "outputId": "42701bd1-67eb-4b00-ee40-ad504d3a3452"
      },
      "outputs": [
        {
          "output_type": "stream",
          "name": "stdout",
          "text": [
            "Mounted at /content/gdrive\n",
            "CSV file saved as /content/gdrive/My Drive/stock_data/stock_data_20231014134246.csv\n",
            "CSV file saved as /content/gdrive/My Drive/stock_data/stock_data_20231014134346.csv\n",
            "CSV file saved as /content/gdrive/My Drive/stock_data/stock_data_20231014134446.csv\n",
            "CSV file saved as /content/gdrive/My Drive/stock_data/stock_data_20231014134547.csv\n",
            "CSV file saved as /content/gdrive/My Drive/stock_data/stock_data_20231014134647.csv\n",
            "CSV file saved as /content/gdrive/My Drive/stock_data/stock_data_20231014134747.csv\n",
            "CSV file saved as /content/gdrive/My Drive/stock_data/stock_data_20231014134847.csv\n",
            "CSV file saved as /content/gdrive/My Drive/stock_data/stock_data_20231014134947.csv\n",
            "CSV file saved as /content/gdrive/My Drive/stock_data/stock_data_20231014135047.csv\n",
            "CSV file saved as /content/gdrive/My Drive/stock_data/stock_data_20231014135147.csv\n",
            "CSV file saved as /content/gdrive/My Drive/stock_data/stock_data_20231014135247.csv\n",
            "CSV file saved as /content/gdrive/My Drive/stock_data/stock_data_20231014135347.csv\n",
            "CSV file saved as /content/gdrive/My Drive/stock_data/stock_data_20231014135447.csv\n",
            "CSV file saved as /content/gdrive/My Drive/stock_data/stock_data_20231014135547.csv\n",
            "CSV file saved as /content/gdrive/My Drive/stock_data/stock_data_20231014135647.csv\n",
            "CSV file saved as /content/gdrive/My Drive/stock_data/stock_data_20231014135747.csv\n",
            "CSV file saved as /content/gdrive/My Drive/stock_data/stock_data_20231014135847.csv\n",
            "CSV file saved as /content/gdrive/My Drive/stock_data/stock_data_20231014135947.csv\n",
            "CSV file saved as /content/gdrive/My Drive/stock_data/stock_data_20231014140047.csv\n",
            "CSV file saved as /content/gdrive/My Drive/stock_data/stock_data_20231014140147.csv\n",
            "CSV file saved as /content/gdrive/My Drive/stock_data/stock_data_20231014140247.csv\n",
            "CSV file saved as /content/gdrive/My Drive/stock_data/stock_data_20231014140347.csv\n",
            "CSV file saved as /content/gdrive/My Drive/stock_data/stock_data_20231014140447.csv\n",
            "CSV file saved as /content/gdrive/My Drive/stock_data/stock_data_20231014140548.csv\n",
            "CSV file saved as /content/gdrive/My Drive/stock_data/stock_data_20231014140648.csv\n",
            "CSV file saved as /content/gdrive/My Drive/stock_data/stock_data_20231014140748.csv\n",
            "CSV file saved as /content/gdrive/My Drive/stock_data/stock_data_20231014140848.csv\n",
            "CSV file saved as /content/gdrive/My Drive/stock_data/stock_data_20231014140948.csv\n",
            "CSV file saved as /content/gdrive/My Drive/stock_data/stock_data_20231014141048.csv\n",
            "CSV file saved as /content/gdrive/My Drive/stock_data/stock_data_20231014141148.csv\n",
            "CSV file saved as /content/gdrive/My Drive/stock_data/stock_data_20231014141248.csv\n",
            "CSV file saved as /content/gdrive/My Drive/stock_data/stock_data_20231014141348.csv\n",
            "CSV file saved as /content/gdrive/My Drive/stock_data/stock_data_20231014141448.csv\n",
            "CSV file saved as /content/gdrive/My Drive/stock_data/stock_data_20231014141548.csv\n",
            "CSV file saved as /content/gdrive/My Drive/stock_data/stock_data_20231014141648.csv\n",
            "CSV file saved as /content/gdrive/My Drive/stock_data/stock_data_20231014141748.csv\n",
            "CSV file saved as /content/gdrive/My Drive/stock_data/stock_data_20231014141848.csv\n",
            "CSV file saved as /content/gdrive/My Drive/stock_data/stock_data_20231014141948.csv\n",
            "CSV file saved as /content/gdrive/My Drive/stock_data/stock_data_20231014142048.csv\n",
            "CSV file saved as /content/gdrive/My Drive/stock_data/stock_data_20231014142148.csv\n",
            "CSV file saved as /content/gdrive/My Drive/stock_data/stock_data_20231014142248.csv\n"
          ]
        }
      ],
      "source": [
        "import csv\n",
        "import random\n",
        "from datetime import datetime, timedelta\n",
        "import os\n",
        "from google.colab import drive\n",
        "import time\n",
        "\n",
        "# Mount Google Drive\n",
        "drive.mount('/content/gdrive')\n",
        "\n",
        "# Function to generate random stock data\n",
        "def generate_random_stock_data():\n",
        "    stock_open = round(random.uniform(20, 70), 2)\n",
        "    stock_close = round(random.uniform(20, 70), 2)\n",
        "    return stock_open, stock_close\n",
        "\n",
        "# Define the output directory in Google Drive\n",
        "output_directory = '/content/gdrive/My Drive/stock_data'\n",
        "os.makedirs(output_directory, exist_ok=True)\n",
        "\n",
        "# Number of files to generate (1 file per minute)\n",
        "num_files_per_minute = 10\n",
        "\n",
        "# Time step (1 minute)\n",
        "time_step = timedelta(minutes=1)\n",
        "\n",
        "# Infinite loop to generate files every minute\n",
        "while True:\n",
        "    current_time = datetime.now()\n",
        "    file_timestamp = current_time.strftime('%Y%m%d%H%M%S')\n",
        "    csv_filename = os.path.join(output_directory, f'stock_data_{file_timestamp}.csv')\n",
        "\n",
        "    # Generate the CSV file for the current minute\n",
        "    stock_data = []\n",
        "    for _ in range(num_files_per_minute):\n",
        "        stock_open, stock_close = generate_random_stock_data()\n",
        "        stock_time = (current_time).strftime('%Y-%m-%d %H:%M:%S')\n",
        "        stock_data.append([stock_time, stock_open, stock_close])\n",
        "\n",
        "    with open(csv_filename, 'w', newline='') as csvfile:\n",
        "        fieldnames = ['Timestamp', 'Stock_Open', 'Stock_Close']\n",
        "        writer = csv.DictWriter(csvfile, fieldnames=fieldnames)\n",
        "\n",
        "        writer.writeheader()\n",
        "        for data_row in stock_data:\n",
        "            writer.writerow({'Timestamp': data_row[0], 'Stock_Open': data_row[1], 'Stock_Close': data_row[2]})\n",
        "\n",
        "    print(f'CSV file saved as {csv_filename}')\n",
        "\n",
        "    # Wait for 1 minute before generating the next file\n",
        "    time.sleep(60)\n"
      ]
    },
    {
      "cell_type": "code",
      "source": [],
      "metadata": {
        "id": "zomJAa9ubGCT"
      },
      "execution_count": null,
      "outputs": []
    }
  ]
}